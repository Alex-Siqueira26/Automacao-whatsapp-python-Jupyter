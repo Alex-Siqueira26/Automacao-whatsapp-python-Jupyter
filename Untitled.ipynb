{
 "cells": [
  {
   "cell_type": "code",
   "execution_count": 1,
   "id": "11174845-a9fd-4a77-9ffd-23c5a5364b14",
   "metadata": {},
   "outputs": [
    {
     "name": "stdout",
     "output_type": "stream",
     "text": [
      "     PESSOA      TELEFONE        MESSAGEM\n",
      "0  Fulano 2  xxxx-xxx-xxx  Olá, Bom dia ?\n",
      "1  Fulano 1  xxxx-xxx-xxx  Olá, Bom dia ?\n",
      "2  Fulano 3  xxxx-xxx-xxx  Olá, Bom dia ?\n",
      "3  Fulano 4  xxxx-xxx-xxx  Olá, Bom dia ?\n"
     ]
    }
   ],
   "source": [
    "import pandas as pd\n",
    "\n",
    "df = pd.read_excel(\"planilha.xlsx\")\n",
    "print(df.head())\n"
   ]
  },
  {
   "cell_type": "code",
   "execution_count": 3,
   "id": "14842ef8-ec40-4d32-a806-232e786596ad",
   "metadata": {},
   "outputs": [
    {
     "name": "stdout",
     "output_type": "stream",
     "text": [
      "     PESSOA      TELEFONE        MESSAGEM\n",
      "0  Fulano 2  xxxx-xxx-xxx  Olá, Bom dia ?\n",
      "1  Fulano 1  xxxx-xxx-xxx  Olá, Bom dia ?\n",
      "2  Fulano 3  xxxx-xxx-xxx  Olá, Bom dia ?\n",
      "3  Fulano 4  xxxx-xxx-xxx  Olá, Bom dia ?\n"
     ]
    },
    {
     "ename": "NoSuchWindowException",
     "evalue": "Message: no such window: target window already closed\nfrom unknown error: web view not found\n  (Session info: chrome=131.0.6778.267)\nStacktrace:\n\tGetHandleVerifier [0x00007FF7D9AF80D5+2992373]\n\t(No symbol) [0x00007FF7D978BFD0]\n\t(No symbol) [0x00007FF7D962590A]\n\t(No symbol) [0x00007FF7D95FF4F5]\n\t(No symbol) [0x00007FF7D96A63A7]\n\t(No symbol) [0x00007FF7D96BEE72]\n\t(No symbol) [0x00007FF7D969F113]\n\t(No symbol) [0x00007FF7D966A918]\n\t(No symbol) [0x00007FF7D966BA81]\n\tGetHandleVerifier [0x00007FF7D9B56A2D+3379789]\n\tGetHandleVerifier [0x00007FF7D9B6C32D+3468109]\n\tGetHandleVerifier [0x00007FF7D9B60043+3418211]\n\tGetHandleVerifier [0x00007FF7D98EC78B+847787]\n\t(No symbol) [0x00007FF7D979757F]\n\t(No symbol) [0x00007FF7D9792FC4]\n\t(No symbol) [0x00007FF7D979315D]\n\t(No symbol) [0x00007FF7D9782979]\n\tBaseThreadInitThunk [0x00007FF8FB517374+20]\n\tRtlUserThreadStart [0x00007FF8FD41CC91+33]\n",
     "output_type": "error",
     "traceback": [
      "\u001b[1;31m---------------------------------------------------------------------------\u001b[0m",
      "\u001b[1;31mNoSuchWindowException\u001b[0m                     Traceback (most recent call last)",
      "Cell \u001b[1;32mIn[3], line 16\u001b[0m\n\u001b[0;32m     13\u001b[0m navegador\u001b[38;5;241m.\u001b[39mget(\u001b[38;5;124m\"\u001b[39m\u001b[38;5;124mhttps://web.whatsapp.com/\u001b[39m\u001b[38;5;124m\"\u001b[39m)\n\u001b[0;32m     15\u001b[0m \u001b[38;5;66;03m# Esperar até que o WhatsApp Web carregue\u001b[39;00m\n\u001b[1;32m---> 16\u001b[0m \u001b[38;5;28;01mwhile\u001b[39;00m \u001b[38;5;28mlen\u001b[39m(navegador\u001b[38;5;241m.\u001b[39mfind_elements(By\u001b[38;5;241m.\u001b[39mXPATH, \u001b[38;5;124m\"\u001b[39m\u001b[38;5;124m//*[@id=\u001b[39m\u001b[38;5;124m'\u001b[39m\u001b[38;5;124mapp\u001b[39m\u001b[38;5;124m'\u001b[39m\u001b[38;5;124m]/div/div[3]/div/div[3]/header/header/div/span/div/div[1]/button/span\u001b[39m\u001b[38;5;124m\"\u001b[39m)) \u001b[38;5;241m==\u001b[39m \u001b[38;5;241m0\u001b[39m:\n\u001b[0;32m     17\u001b[0m     time\u001b[38;5;241m.\u001b[39msleep(\u001b[38;5;241m10\u001b[39m)\n\u001b[0;32m     19\u001b[0m \u001b[38;5;66;03m# Enviar mensagens\u001b[39;00m\n",
      "File \u001b[1;32m~\\anaconda3\\Lib\\site-packages\\selenium\\webdriver\\remote\\webdriver.py:792\u001b[0m, in \u001b[0;36mWebDriver.find_elements\u001b[1;34m(self, by, value)\u001b[0m\n\u001b[0;32m    788\u001b[0m     \u001b[38;5;28;01mreturn\u001b[39;00m \u001b[38;5;28mself\u001b[39m\u001b[38;5;241m.\u001b[39mexecute_script(find_element_js, by\u001b[38;5;241m.\u001b[39mto_dict())\n\u001b[0;32m    790\u001b[0m \u001b[38;5;66;03m# Return empty list if driver returns null\u001b[39;00m\n\u001b[0;32m    791\u001b[0m \u001b[38;5;66;03m# See https://github.com/SeleniumHQ/selenium/issues/4555\u001b[39;00m\n\u001b[1;32m--> 792\u001b[0m \u001b[38;5;28;01mreturn\u001b[39;00m \u001b[38;5;28mself\u001b[39m\u001b[38;5;241m.\u001b[39mexecute(Command\u001b[38;5;241m.\u001b[39mFIND_ELEMENTS, {\u001b[38;5;124m\"\u001b[39m\u001b[38;5;124musing\u001b[39m\u001b[38;5;124m\"\u001b[39m: by, \u001b[38;5;124m\"\u001b[39m\u001b[38;5;124mvalue\u001b[39m\u001b[38;5;124m\"\u001b[39m: value})[\u001b[38;5;124m\"\u001b[39m\u001b[38;5;124mvalue\u001b[39m\u001b[38;5;124m\"\u001b[39m] \u001b[38;5;129;01mor\u001b[39;00m []\n",
      "File \u001b[1;32m~\\anaconda3\\Lib\\site-packages\\selenium\\webdriver\\remote\\webdriver.py:384\u001b[0m, in \u001b[0;36mWebDriver.execute\u001b[1;34m(self, driver_command, params)\u001b[0m\n\u001b[0;32m    382\u001b[0m response \u001b[38;5;241m=\u001b[39m \u001b[38;5;28mself\u001b[39m\u001b[38;5;241m.\u001b[39mcommand_executor\u001b[38;5;241m.\u001b[39mexecute(driver_command, params)\n\u001b[0;32m    383\u001b[0m \u001b[38;5;28;01mif\u001b[39;00m response:\n\u001b[1;32m--> 384\u001b[0m     \u001b[38;5;28mself\u001b[39m\u001b[38;5;241m.\u001b[39merror_handler\u001b[38;5;241m.\u001b[39mcheck_response(response)\n\u001b[0;32m    385\u001b[0m     response[\u001b[38;5;124m\"\u001b[39m\u001b[38;5;124mvalue\u001b[39m\u001b[38;5;124m\"\u001b[39m] \u001b[38;5;241m=\u001b[39m \u001b[38;5;28mself\u001b[39m\u001b[38;5;241m.\u001b[39m_unwrap_value(response\u001b[38;5;241m.\u001b[39mget(\u001b[38;5;124m\"\u001b[39m\u001b[38;5;124mvalue\u001b[39m\u001b[38;5;124m\"\u001b[39m, \u001b[38;5;28;01mNone\u001b[39;00m))\n\u001b[0;32m    386\u001b[0m     \u001b[38;5;28;01mreturn\u001b[39;00m response\n",
      "File \u001b[1;32m~\\anaconda3\\Lib\\site-packages\\selenium\\webdriver\\remote\\errorhandler.py:232\u001b[0m, in \u001b[0;36mErrorHandler.check_response\u001b[1;34m(self, response)\u001b[0m\n\u001b[0;32m    230\u001b[0m         alert_text \u001b[38;5;241m=\u001b[39m value[\u001b[38;5;124m\"\u001b[39m\u001b[38;5;124malert\u001b[39m\u001b[38;5;124m\"\u001b[39m]\u001b[38;5;241m.\u001b[39mget(\u001b[38;5;124m\"\u001b[39m\u001b[38;5;124mtext\u001b[39m\u001b[38;5;124m\"\u001b[39m)\n\u001b[0;32m    231\u001b[0m     \u001b[38;5;28;01mraise\u001b[39;00m exception_class(message, screen, stacktrace, alert_text)  \u001b[38;5;66;03m# type: ignore[call-arg]  # mypy is not smart enough here\u001b[39;00m\n\u001b[1;32m--> 232\u001b[0m \u001b[38;5;28;01mraise\u001b[39;00m exception_class(message, screen, stacktrace)\n",
      "\u001b[1;31mNoSuchWindowException\u001b[0m: Message: no such window: target window already closed\nfrom unknown error: web view not found\n  (Session info: chrome=131.0.6778.267)\nStacktrace:\n\tGetHandleVerifier [0x00007FF7D9AF80D5+2992373]\n\t(No symbol) [0x00007FF7D978BFD0]\n\t(No symbol) [0x00007FF7D962590A]\n\t(No symbol) [0x00007FF7D95FF4F5]\n\t(No symbol) [0x00007FF7D96A63A7]\n\t(No symbol) [0x00007FF7D96BEE72]\n\t(No symbol) [0x00007FF7D969F113]\n\t(No symbol) [0x00007FF7D966A918]\n\t(No symbol) [0x00007FF7D966BA81]\n\tGetHandleVerifier [0x00007FF7D9B56A2D+3379789]\n\tGetHandleVerifier [0x00007FF7D9B6C32D+3468109]\n\tGetHandleVerifier [0x00007FF7D9B60043+3418211]\n\tGetHandleVerifier [0x00007FF7D98EC78B+847787]\n\t(No symbol) [0x00007FF7D979757F]\n\t(No symbol) [0x00007FF7D9792FC4]\n\t(No symbol) [0x00007FF7D979315D]\n\t(No symbol) [0x00007FF7D9782979]\n\tBaseThreadInitThunk [0x00007FF8FB517374+20]\n\tRtlUserThreadStart [0x00007FF8FD41CC91+33]\n"
     ]
    }
   ],
   "source": [
    "import pandas as pd\n",
    "from selenium import webdriver\n",
    "from selenium.webdriver.common.keys import Keys\n",
    "from selenium.webdriver.common.by import By\n",
    "import time\n",
    "\n",
    "# Ler a planilha Excel\n",
    "df = pd.read_excel(\"planilha.xlsx\")\n",
    "print(df.head())\n",
    "\n",
    "# Inicializar o navegador\n",
    "navegador = webdriver.Chrome()\n",
    "navegador.get(\"https://web.whatsapp.com/\")\n",
    "\n",
    "# Esperar até que o WhatsApp Web carregue\n",
    "while len(navegador.find_elements(By.XPATH, \"//*[@id='app']/div/div[3]/div/div[3]/header/header/div/span/div/div[1]/button/span\")) == 0:\n",
    "    time.sleep(10)\n",
    "\n",
    "# Enviar mensagens\n",
    "for i in range(len(df)):\n",
    "    try:\n",
    "        mensagem = df.loc[i, 'MESSAGEM']\n",
    "        pessoa = df.loc[i, 'PESSOA']\n",
    "        numero = df.loc[i, 'TELEFONE']\n",
    "        texto = mensagem\n",
    "        link = f\"https://web.whatsapp.com/send?phone={numero}&text={texto}\"\n",
    "        navegador.get(link)\n",
    "        time.sleep(10)  # Espera para carregar a página\n",
    "\n",
    "        # Esperar até que o campo de mensagem esteja presente\n",
    "        while len(navegador.find_elements(By.XPATH, \"//*[@id='main']/footer/div[1]/div/span/div/div[2]/div[2]\")) == 0:\n",
    "            time.sleep(1)\n",
    "\n",
    "        # Localizar o campo de mensagem e enviar a mensagem\n",
    "        campo_mensagem = navegador.find_element(By.XPATH, \"//*[@id='main']/footer/div[1]/div/span/div/div[2]/div[2]\")\n",
    "        campo_mensagem.click()\n",
    "        campo_mensagem.send_keys(mensagem)\n",
    "        campo_mensagem.send_keys(Keys.ENTER)  # Pressionar \"Enter\" para enviar a mensagem\n",
    "        time.sleep(3)  # Espera antes de passar para a próxima mensagem\n",
    "\n",
    "    except Exception as e:\n",
    "        # Abrir uma nova aba no navegador para avisar sobre o número errado\n",
    "        navegador.execute_script(\"window.open('about:blank', 'alerta');\")\n",
    "        navegador.switch_to.window(\"alerta\")\n",
    "        navegador.get(f\"data:text/html,<h1>Erro com o número: {numero}</h1><p>{str(e)}</p>\")\n",
    "        navegador.switch_to.window(navegador.window_handles[0])  # Voltar para a aba principal\n",
    "\n",
    "print(\"Mensagens enviadas com sucesso!\")\n",
    "\n",
    "\n",
    "\n",
    "\n",
    "\n",
    "\n",
    "\n"
   ]
  },
  {
   "cell_type": "code",
   "execution_count": null,
   "id": "577b2596-f6ec-46d9-9ce3-e5fd0a593f25",
   "metadata": {},
   "outputs": [],
   "source": []
  },
  {
   "cell_type": "code",
   "execution_count": null,
   "id": "8493f02f-714d-4bed-8ba2-6ce27529bcd1",
   "metadata": {},
   "outputs": [],
   "source": []
  }
 ],
 "metadata": {
  "kernelspec": {
   "display_name": "Python [conda env:base] *",
   "language": "python",
   "name": "conda-base-py"
  },
  "language_info": {
   "codemirror_mode": {
    "name": "ipython",
    "version": 3
   },
   "file_extension": ".py",
   "mimetype": "text/x-python",
   "name": "python",
   "nbconvert_exporter": "python",
   "pygments_lexer": "ipython3",
   "version": "3.12.7"
  }
 },
 "nbformat": 4,
 "nbformat_minor": 5
}

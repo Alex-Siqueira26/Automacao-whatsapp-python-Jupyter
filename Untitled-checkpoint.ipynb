{
 "cells": [
  {
   "cell_type": "code",
   "execution_count": 1,
   "id": "11174845-a9fd-4a77-9ffd-23c5a5364b14",
   "metadata": {},
   "outputs": [
    {
     "name": "stdout",
     "output_type": "stream",
     "text": [
      "     PESSOA      TELEFONE        MESSAGEM\n",
      "0  Fulano 2  xxxx-xxx-xxx  Olá, Bom dia ?\n",
      "1  Fulano 1  xxxx-xxx-xxx  Olá, Bom dia ?\n",
      "2  Fulano 3  xxxx-xxx-xxx  Olá, Bom dia ?\n",
      "3  Fulano 4  xxxx-xxx-xxx  Olá, Bom dia ?\n"
     ]
    }
   ],
   "source": [
    "import pandas as pd\n",
    "\n",
    "df = pd.read_excel(\"planilha.xlsx\")\n",
    "print(df.head())\n"
   ]
  },
  {
   "cell_type": "code",
   "execution_count": null,
   "id": "14842ef8-ec40-4d32-a806-232e786596ad",
   "metadata": {},
   "outputs": [
    {
     "name": "stdout",
     "output_type": "stream",
     "text": [
      "     PESSOA      TELEFONE        MESSAGEM\n",
      "0  Fulano 2  xxxx-xxx-xxx  Olá, Bom dia ?\n",
      "1  Fulano 1  xxxx-xxx-xxx  Olá, Bom dia ?\n",
      "2  Fulano 3  xxxx-xxx-xxx  Olá, Bom dia ?\n",
      "3  Fulano 4  xxxx-xxx-xxx  Olá, Bom dia ?\n"
     ]
    }
   ],
   "source": [
    "import pandas as pd\n",
    "from selenium import webdriver\n",
    "from selenium.webdriver.common.keys import Keys\n",
    "from selenium.webdriver.common.by import By\n",
    "import time\n",
    "\n",
    "# Ler a planilha Excel\n",
    "df = pd.read_excel(\"planilha.xlsx\")\n",
    "print(df.head())\n",
    "\n",
    "# Inicializar o navegador\n",
    "navegador = webdriver.Chrome()\n",
    "navegador.get(\"https://web.whatsapp.com/\")\n",
    "\n",
    "# Esperar até que o WhatsApp Web carregue\n",
    "while len(navegador.find_elements(By.XPATH, \"//*[@id='app']/div/div[3]/div/div[3]/header/header/div/span/div/div[1]/button/span\")) == 0:\n",
    "    time.sleep(10)\n",
    "\n",
    "# Enviar mensagens\n",
    "for i in range(len(df)):\n",
    "    try:\n",
    "        mensagem = df.loc[i, 'MESSAGEM']\n",
    "        pessoa = df.loc[i, 'PESSOA']\n",
    "        numero = df.loc[i, 'TELEFONE']\n",
    "        texto = mensagem\n",
    "        link = f\"https://web.whatsapp.com/send?phone={numero}&text={texto}\"\n",
    "        navegador.get(link)\n",
    "        time.sleep(10)  # Espera para carregar a página\n",
    "\n",
    "        # Esperar até que o campo de mensagem esteja presente\n",
    "        while len(navegador.find_elements(By.XPATH, \"//*[@id='main']/footer/div[1]/div/span/div/div[2]/div[2]\")) == 0:\n",
    "            time.sleep(1)\n",
    "\n",
    "        # Localizar o campo de mensagem e enviar a mensagem\n",
    "        campo_mensagem = navegador.find_element(By.XPATH, \"//*[@id='main']/footer/div[1]/div/span/div/div[2]/div[2]\")\n",
    "        campo_mensagem.click()\n",
    "        campo_mensagem.send_keys(mensagem)\n",
    "        campo_mensagem.send_keys(Keys.ENTER)  # Pressionar \"Enter\" para enviar a mensagem\n",
    "        time.sleep(3)  # Espera antes de passar para a próxima mensagem\n",
    "\n",
    "    except Exception as e:\n",
    "        # Abrir uma nova aba no navegador para avisar sobre o número errado\n",
    "        navegador.execute_script(\"window.open('about:blank', 'alerta');\")\n",
    "        navegador.switch_to.window(\"alerta\")\n",
    "        navegador.get(f\"data:text/html,<h1>Erro com o número: {numero}</h1><p>{str(e)}</p>\")\n",
    "        navegador.switch_to.window(navegador.window_handles[0])  # Voltar para a aba principal\n",
    "\n",
    "print(\"Mensagens enviadas com sucesso!\")\n",
    "\n",
    "\n",
    "\n",
    "\n",
    "\n",
    "\n",
    "\n"
   ]
  },
  {
   "cell_type": "code",
   "execution_count": null,
   "id": "577b2596-f6ec-46d9-9ce3-e5fd0a593f25",
   "metadata": {},
   "outputs": [],
   "source": []
  },
  {
   "cell_type": "code",
   "execution_count": null,
   "id": "8493f02f-714d-4bed-8ba2-6ce27529bcd1",
   "metadata": {},
   "outputs": [],
   "source": []
  }
 ],
 "metadata": {
  "kernelspec": {
   "display_name": "Python [conda env:base] *",
   "language": "python",
   "name": "conda-base-py"
  },
  "language_info": {
   "codemirror_mode": {
    "name": "ipython",
    "version": 3
   },
   "file_extension": ".py",
   "mimetype": "text/x-python",
   "name": "python",
   "nbconvert_exporter": "python",
   "pygments_lexer": "ipython3",
   "version": "3.12.7"
  }
 },
 "nbformat": 4,
 "nbformat_minor": 5
}
